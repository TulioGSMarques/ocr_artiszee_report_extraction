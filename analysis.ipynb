{
  "cells": [
    {
      "cell_type": "markdown",
      "metadata": {
        "id": "NklFH8jrMSjv"
      },
      "source": [
        "# Install packages"
      ]
    },
    {
      "cell_type": "code",
      "execution_count": 1,
      "metadata": {
        "colab": {
          "base_uri": "https://localhost:8080/"
        },
        "id": "tQpusiug1hRO",
        "outputId": "d2f885f0-2219-4ec4-edbe-230cda3f688d"
      },
      "outputs": [
        {
          "output_type": "stream",
          "name": "stdout",
          "text": [
            "Get:1 http://security.ubuntu.com/ubuntu jammy-security InRelease [110 kB]\n",
            "Hit:2 http://archive.ubuntu.com/ubuntu jammy InRelease\n",
            "Get:3 https://cloud.r-project.org/bin/linux/ubuntu jammy-cran40/ InRelease [3,626 B]\n",
            "Get:4 https://developer.download.nvidia.com/compute/cuda/repos/ubuntu2204/x86_64  InRelease [1,581 B]\n",
            "Get:5 http://archive.ubuntu.com/ubuntu jammy-updates InRelease [119 kB]\n",
            "Get:6 http://archive.ubuntu.com/ubuntu jammy-backports InRelease [109 kB]\n",
            "Get:7 https://ppa.launchpadcontent.net/c2d4u.team/c2d4u4.0+/ubuntu jammy InRelease [18.1 kB]\n",
            "Get:8 https://ppa.launchpadcontent.net/deadsnakes/ppa/ubuntu jammy InRelease [18.1 kB]\n",
            "Hit:9 https://ppa.launchpadcontent.net/graphics-drivers/ppa/ubuntu jammy InRelease\n",
            "Hit:10 https://ppa.launchpadcontent.net/ubuntugis/ppa/ubuntu jammy InRelease\n",
            "Get:11 http://security.ubuntu.com/ubuntu jammy-security/main amd64 Packages [1,346 kB]\n",
            "Get:12 http://security.ubuntu.com/ubuntu jammy-security/multiverse amd64 Packages [44.6 kB]\n",
            "Get:13 http://security.ubuntu.com/ubuntu jammy-security/universe amd64 Packages [1,057 kB]\n",
            "Get:14 http://security.ubuntu.com/ubuntu jammy-security/restricted amd64 Packages [1,617 kB]\n",
            "Get:15 https://developer.download.nvidia.com/compute/cuda/repos/ubuntu2204/x86_64  Packages [664 kB]\n",
            "Get:16 http://archive.ubuntu.com/ubuntu jammy-updates/main amd64 Packages [1,624 kB]\n",
            "Get:17 https://ppa.launchpadcontent.net/c2d4u.team/c2d4u4.0+/ubuntu jammy/main Sources [2,263 kB]\n",
            "Get:18 http://archive.ubuntu.com/ubuntu jammy-updates/universe amd64 Packages [1,322 kB]\n",
            "Get:19 http://archive.ubuntu.com/ubuntu jammy-updates/restricted amd64 Packages [1,650 kB]\n",
            "Get:20 http://archive.ubuntu.com/ubuntu jammy-updates/multiverse amd64 Packages [50.5 kB]\n",
            "Get:21 https://ppa.launchpadcontent.net/c2d4u.team/c2d4u4.0+/ubuntu jammy/main amd64 Packages [1,161 kB]\n",
            "Get:22 https://ppa.launchpadcontent.net/deadsnakes/ppa/ubuntu jammy/main amd64 Packages [28.2 kB]\n",
            "Fetched 13.2 MB in 5s (2,407 kB/s)\n",
            "Reading package lists... Done\n",
            "Building dependency tree... Done\n",
            "Reading state information... Done\n",
            "44 packages can be upgraded. Run 'apt list --upgradable' to see them.\n",
            "Mounted at /content/drive\n",
            "Requirement already satisfied: opencv-python-headless in /usr/local/lib/python3.10/dist-packages (4.9.0.80)\n",
            "Requirement already satisfied: numpy>=1.21.2 in /usr/local/lib/python3.10/dist-packages (from opencv-python-headless) (1.23.5)\n",
            "Collecting pydicom\n",
            "  Downloading pydicom-2.4.4-py3-none-any.whl (1.8 MB)\n",
            "\u001b[2K     \u001b[90m━━━━━━━━━━━━━━━━━━━━━━━━━━━━━━━━━━━━━━━━\u001b[0m \u001b[32m1.8/1.8 MB\u001b[0m \u001b[31m14.5 MB/s\u001b[0m eta \u001b[36m0:00:00\u001b[0m\n",
            "\u001b[?25hInstalling collected packages: pydicom\n",
            "Successfully installed pydicom-2.4.4\n",
            "Reading package lists... Done\n",
            "Building dependency tree... Done\n",
            "Reading state information... Done\n",
            "The following additional packages will be installed:\n",
            "  tesseract-ocr-eng tesseract-ocr-osd\n",
            "The following NEW packages will be installed:\n",
            "  tesseract-ocr tesseract-ocr-eng tesseract-ocr-osd\n",
            "0 upgraded, 3 newly installed, 0 to remove and 44 not upgraded.\n",
            "Need to get 4,816 kB of archives.\n",
            "After this operation, 15.6 MB of additional disk space will be used.\n",
            "Get:1 http://archive.ubuntu.com/ubuntu jammy/universe amd64 tesseract-ocr-eng all 1:4.00~git30-7274cfa-1.1 [1,591 kB]\n",
            "Get:2 http://archive.ubuntu.com/ubuntu jammy/universe amd64 tesseract-ocr-osd all 1:4.00~git30-7274cfa-1.1 [2,990 kB]\n",
            "Get:3 http://archive.ubuntu.com/ubuntu jammy/universe amd64 tesseract-ocr amd64 4.1.1-2.1build1 [236 kB]\n",
            "Fetched 4,816 kB in 0s (11.8 MB/s)\n",
            "debconf: unable to initialize frontend: Dialog\n",
            "debconf: (No usable dialog-like program is installed, so the dialog based frontend cannot be used. at /usr/share/perl5/Debconf/FrontEnd/Dialog.pm line 78, <> line 3.)\n",
            "debconf: falling back to frontend: Readline\n",
            "debconf: unable to initialize frontend: Readline\n",
            "debconf: (This frontend requires a controlling tty.)\n",
            "debconf: falling back to frontend: Teletype\n",
            "dpkg-preconfigure: unable to re-open stdin: \n",
            "Selecting previously unselected package tesseract-ocr-eng.\n",
            "(Reading database ... 121658 files and directories currently installed.)\n",
            "Preparing to unpack .../tesseract-ocr-eng_1%3a4.00~git30-7274cfa-1.1_all.deb ...\n",
            "Unpacking tesseract-ocr-eng (1:4.00~git30-7274cfa-1.1) ...\n",
            "Selecting previously unselected package tesseract-ocr-osd.\n",
            "Preparing to unpack .../tesseract-ocr-osd_1%3a4.00~git30-7274cfa-1.1_all.deb ...\n",
            "Unpacking tesseract-ocr-osd (1:4.00~git30-7274cfa-1.1) ...\n",
            "Selecting previously unselected package tesseract-ocr.\n",
            "Preparing to unpack .../tesseract-ocr_4.1.1-2.1build1_amd64.deb ...\n",
            "Unpacking tesseract-ocr (4.1.1-2.1build1) ...\n",
            "Setting up tesseract-ocr-eng (1:4.00~git30-7274cfa-1.1) ...\n",
            "Setting up tesseract-ocr-osd (1:4.00~git30-7274cfa-1.1) ...\n",
            "Setting up tesseract-ocr (4.1.1-2.1build1) ...\n",
            "Processing triggers for man-db (2.10.2-1) ...\n",
            "Collecting pytesseract\n",
            "  Downloading pytesseract-0.3.10-py3-none-any.whl (14 kB)\n",
            "Requirement already satisfied: packaging>=21.3 in /usr/local/lib/python3.10/dist-packages (from pytesseract) (23.2)\n",
            "Requirement already satisfied: Pillow>=8.0.0 in /usr/local/lib/python3.10/dist-packages (from pytesseract) (9.4.0)\n",
            "Installing collected packages: pytesseract\n",
            "Successfully installed pytesseract-0.3.10\n",
            "Requirement already satisfied: pillow in /usr/local/lib/python3.10/dist-packages (9.4.0)\n",
            "Requirement already satisfied: numpy in /usr/local/lib/python3.10/dist-packages (1.23.5)\n",
            "Requirement already satisfied: openpyxl in /usr/local/lib/python3.10/dist-packages (3.1.2)\n",
            "Requirement already satisfied: et-xmlfile in /usr/local/lib/python3.10/dist-packages (from openpyxl) (1.1.0)\n"
          ]
        }
      ],
      "source": [
        "!apt update\n",
        "from google.colab import drive\n",
        "import os\n",
        "\n",
        "drive.mount('/content/drive')\n",
        "\n",
        "!pip install opencv-python-headless\n",
        "!pip install pydicom\n",
        "import pydicom\n",
        "import pandas as pd\n",
        "\n",
        "!sudo apt install tesseract-ocr\n",
        "!pip install pytesseract\n",
        "!pip install pillow\n",
        "!pip install numpy\n",
        "!pip install openpyxl\n",
        "\n",
        "import pytesseract\n",
        "import numpy as np\n",
        "from PIL import Image\n",
        "from PIL import ImageGrab\n",
        "\n",
        "from typing import List\n",
        "from PIL import Image\n",
        "\n",
        "import ipywidgets as widgets\n",
        "\n",
        "import os\n",
        "import re\n",
        "import time\n",
        "import cv2"
      ]
    },
    {
      "cell_type": "code",
      "execution_count": 2,
      "metadata": {
        "id": "4I0v3hz-K2Lr"
      },
      "outputs": [],
      "source": [
        "def replace_value(dataframe, row_index, column_name, new_value) -> pd.DataFrame:\n",
        "    \"\"\"\n",
        "    Substitua o valor de uma coluna especificada em uma linha especificada em um DataFrame.\n",
        "\n",
        "    Parâmetros:\n",
        "    dataframe (pd.DataFrame): DataFrame original.\n",
        "    row_index (int): índice da linha onde o valor será substituído.\n",
        "    column_name (str): nome da coluna onde o valor será substituído.\n",
        "    new_value: novo valor a ser inserido.\n",
        "\n",
        "    Retorna:\n",
        "    pd.DataFrame: DataFrame após a substituição do valor.\n",
        "    \"\"\"\n",
        "\n",
        "    dataframe.at[row_index, column_name] = new_value\n",
        "    return dataframe\n",
        "\n",
        "\n",
        "def normalize_image(img: np.ndarray, epsilon: float = 1e-8) -> np.ndarray:\n",
        "    img_min, img_max = img.min(), img.max()\n",
        "    img_norm = (img - img_min) / (img_max - img_min + epsilon) * 255\n",
        "    return img_norm.astype(np.uint8)\n",
        "\n",
        "# # Função para combinar uma lista de imagens PIL\n",
        "# def combine_images_vertically(pil_images):\n",
        "#     combined_width = max([img.width for img in pil_images])\n",
        "#     combined_height = sum([img.height for img in pil_images])\n",
        "\n",
        "#     combined_image = Image.new('RGB', (combined_width, combined_height))\n",
        "\n",
        "#     y_offset = 0\n",
        "#     for img in pil_images:\n",
        "#         combined_image.paste(img, (0, y_offset))\n",
        "#         y_offset += img.height\n",
        "\n",
        "#     return combined_image\n",
        "\n",
        "def combine_images_vertically(pil_images: List[Image.Image]) -> Image.Image:\n",
        "    combined_width = max([img.width for img in pil_images])\n",
        "    combined_height = sum([img.height for img in pil_images])\n",
        "\n",
        "    combined_image = Image.new('RGB', (combined_width, combined_height))\n",
        "\n",
        "    y_offset = 0\n",
        "    for img in pil_images:\n",
        "        img = img.convert('RGB')  # Certifique-se de que a imagem está no modo RGB\n",
        "        combined_image.paste(img, (0, y_offset))\n",
        "        y_offset += img.height\n",
        "\n",
        "    return combined_image\n",
        "\n",
        "def get_dicom_header_info(dicom_file, tag):\n",
        "    \"\"\"\n",
        "    Função para extrair uma informação específica do cabeçalho DICOM.\n",
        "\n",
        "    Args:\n",
        "        dicom_file (str): Caminho para o arquivo DICOM.\n",
        "        tag (tuple): Tag DICOM no formato (grupo, elemento), por exemplo, (0x0010, 0x0010) para o nome do paciente.\n",
        "\n",
        "    Returns:\n",
        "        O valor associado à tag DICOM ou None se a tag não for encontrada no arquivo.\n",
        "    \"\"\"\n",
        "    ds = pydicom.dcmread(dicom_file)\n",
        "\n",
        "    if tag in ds:\n",
        "        return ds[tag].value\n",
        "    else:\n",
        "        return None\n",
        "\n",
        "def dicom_metadata_to_dataframe(file_path):\n",
        "    # Ler o arquivo DICOM\n",
        "    dicom_file = pydicom.dcmread(file_path)\n",
        "\n",
        "    # Criar um dicionário vazio para armazenar os metadados do cabeçalho DICOM\n",
        "    metadata_dict = {}\n",
        "\n",
        "    # Iterar sobre os elementos do arquivo DICOM\n",
        "    for data_element in dicom_file:\n",
        "        # Obter a tag, o nome da tag (keyword) e o valor do elemento\n",
        "        tag = str(data_element.tag)\n",
        "        keyword = pydicom.datadict.keyword_for_tag(data_element.tag)\n",
        "        value = data_element.value\n",
        "\n",
        "        # Armazenar o valor no dicionário usando a tag e a keyword como chave\n",
        "        metadata_dict[f\"{tag} ({keyword})\"] = value\n",
        "\n",
        "    # Converter o dicionário em um DataFrame\n",
        "    metadata_df = pd.DataFrame.from_dict(metadata_dict, orient='index', columns=['Value'])\n",
        "\n",
        "    return metadata_df\n",
        "\n",
        "def extrair_info_apos_palavra(texto, palavra_chave):\n",
        "    regex_pattern = r'(?<=' + re.escape(palavra_chave) + r')\\s*([\\d.]+)'\n",
        "    numeros = re.findall(regex_pattern, texto)\n",
        "\n",
        "    if numeros:\n",
        "        # Retorna o primeiro número encontrado após a palavra-chave\n",
        "        return numeros[0]\n",
        "    else:\n",
        "        return None\n",
        "\n",
        "def extrair_informacao(texto, string1, string2):\n",
        "    try:\n",
        "        inicio = texto.find(string1) + len(string1)\n",
        "        final = texto.find(string2, inicio)\n",
        "        resultado = texto[inicio:final].strip()\n",
        "        return resultado\n",
        "    except Exception as e:\n",
        "        print(f\"Erro ao extrair informação: {e}\")\n",
        "        return None\n",
        "\n",
        "def converter_coluna_data(coluna):\n",
        "    formato_entrada = \"%d-%b-%y %H:%M:%S\"\n",
        "    formato_saida = \"%d/%m/%Y\"\n",
        "\n",
        "    # Aplica a conversão a cada elemento da coluna e retorna a nova coluna\n",
        "    return coluna.apply(lambda data_str: datetime.strptime(data_str, formato_entrada).strftime(formato_saida))\n",
        "\n",
        "def renomear_arquivos(diretorio):\n",
        "    arquivos = [f for f in os.listdir(diretorio) if os.path.isfile(os.path.join(diretorio, f))]\n",
        "\n",
        "    # Ordena os arquivos usando o nome completo do arquivo\n",
        "    arquivos.sort(key=lambda x: (os.path.splitext(x)[0], os.path.splitext(x)[1]))\n",
        "\n",
        "    # Primeiro passo: renomear todos os arquivos para nomes temporários\n",
        "    arquivos_temporarios = []\n",
        "    for i, arquivo in enumerate(arquivos):\n",
        "        nome_antigo = os.path.join(diretorio, arquivo)\n",
        "        extensao = os.path.splitext(arquivo)[1]\n",
        "        nome_temporario = os.path.join(diretorio, f\"tmp_{i}{extensao}\")\n",
        "\n",
        "        os.rename(nome_antigo, nome_temporario)\n",
        "        arquivos_temporarios.append(nome_temporario)\n",
        "\n",
        "    # Segundo passo: renomear os arquivos temporários para a sequência correta\n",
        "    for i, arquivo_temp in enumerate(arquivos_temporarios):\n",
        "        nome_antigo = arquivo_temp\n",
        "        extensao = os.path.splitext(arquivo_temp)[1]\n",
        "        nome_novo = os.path.join(diretorio, f\"{i}{extensao}\")\n",
        "\n",
        "        os.rename(nome_antigo, nome_novo)\n",
        "        print(f\"Arquivo '{nome_antigo}' renomeado para '{nome_novo}'\")\n",
        "\n",
        "def extrair_minutos(string):\n",
        "    # Define a expressão regular para encontrar um número seguido de \"min\"\n",
        "    pattern = r\"(\\d+\\.?\\d*)min\"\n",
        "\n",
        "    # Procura na string pela expressão regular\n",
        "    match = re.search(pattern, string)\n",
        "\n",
        "    # Se encontrar a expressão regular, retorna o número encontrado\n",
        "    if match:\n",
        "        return float(match.group(1))\n",
        "    else:\n",
        "        return None\n",
        "\n",
        "def extrair_dose(string):\n",
        "    # Define a expressão regular para encontrar um número seguido de \"min\"\n",
        "    pattern = r\"(\\d+\\.?\\d*)mGy\"\n",
        "\n",
        "    # Procura na string pela expressão regular\n",
        "    match = re.search(pattern, string)\n",
        "\n",
        "    # Se encontrar a expressão regular, retorna o número encontrado\n",
        "    if match:\n",
        "        return float(match.group(1))\n",
        "    else:\n",
        "        return None\n",
        "\n",
        "def mostra_botoes ():\n",
        "  display(ano_escolhido, mes_escolhido,semana_escolhida)\n",
        "  return\n",
        "\n",
        "def vetores_para_dataframe(*vetores, colunas=None):\n",
        "    # Criando um dicionário vazio para armazenar os vetores como colunas\n",
        "    colunas_dict = {}\n",
        "\n",
        "    # Verificando se os nomes das colunas foram fornecidos, caso contrário, usar nomes padrão\n",
        "    if colunas is None:\n",
        "        colunas = [f'coluna_{i}' for i in range(len(vetores))]\n",
        "\n",
        "    # Adicionando cada vetor como uma coluna no dicionário\n",
        "    for nome_coluna, vetor in zip(colunas, vetores):\n",
        "        colunas_dict[nome_coluna] = vetor\n",
        "\n",
        "    # Criando um DataFrame a partir do dicionário de colunas\n",
        "    dataframe = pd.DataFrame(colunas_dict)\n",
        "\n",
        "    return dataframe\n",
        "\n",
        "def combine_images_vertically_cv(images):\n",
        "    images_np = [np.array(img) for img in images]\n",
        "    return cv2.vconcat(images_np)\n",
        "\n",
        "def mostra_botoes_2 ():\n",
        "  display(linha_escolhida, coluna_escolhida, valor_novo)\n",
        "  return"
      ]
    },
    {
      "cell_type": "code",
      "execution_count": 3,
      "metadata": {
        "id": "FeBhYFQsfrXy"
      },
      "outputs": [],
      "source": [
        "ano_escolhido = widgets.ToggleButtons(\n",
        "    options=['2021','2022', '2023', '2024'],\n",
        "    description='Ano',\n",
        "    disabled=False,\n",
        "    button_style='success', # 'success', 'info', 'warning', 'danger' or ''\n",
        "    tooltips=['Description of slow', 'Description of regular', 'Description of fast'],\n",
        "#     icons=['check'] * 3\n",
        ")\n",
        "\n",
        "\n",
        "mes_escolhido = widgets.ToggleButtons(\n",
        "    options=['janeiro','fevereiro','marco','abril','maio','junho','julho','agosto','setembro','outubro','novembro','dezembro'],\n",
        "    description='Mes:',\n",
        "    disabled=False,\n",
        "    button_style='success', # 'success', 'info', 'warning', 'danger' or ''\n",
        "    tooltips=['Description of slow', 'Description of regular', 'Description of fast'],\n",
        "#     icons=['check'] * 3\n",
        ")\n",
        "\n",
        "semana_escolhida = widgets.ToggleButtons(\n",
        "    options=['1','2','3','4','5'],\n",
        "    description='Semana',\n",
        "    disabled=False,\n",
        "    button_style='success', # 'success', 'info', 'warning', 'danger' or ''\n",
        "    tooltips=['Description of slow', 'Description of regular', 'Description of fast'],\n",
        "#     icons=['check'] * 3\n",
        ")\n",
        "\n",
        "linha_escolhida = widgets.IntText(\n",
        "    value = 0,\n",
        "    description='Linha: ',\n",
        "    disabled=False,\n",
        "    button_style='success', # 'success', 'info', 'warning', 'danger' or ''\n",
        "    tooltips=['Description of slow', 'Description of regular', 'Description of fast'],\n",
        "#     icons=['check'] * 3\n",
        ")\n",
        "\n",
        "coluna_escolhida = widgets.ToggleButtons(\n",
        "    options=['Dose (mGy)','KPA (uGym2)','Tempo (min)','Num Exposicoes'],\n",
        "    description='Coluna de interesse: ',\n",
        "    disabled=False,\n",
        "    button_style='success', # 'success', 'info', 'warning', 'danger' or ''\n",
        "    tooltips=['Description of slow', 'Description of regular', 'Description of fast'],\n",
        "#     icons=['check'] * 3\n",
        ")\n",
        "\n",
        "valor_novo = widgets.IntText(\n",
        "    value = 0,\n",
        "    description='Valor novo: ',\n",
        "    disabled=False,\n",
        "    button_style='success', # 'success', 'info', 'warning', 'danger' or ''\n",
        "    tooltips=['Description of slow', 'Description of regular', 'Description of fast'],\n",
        "#     icons=['check'] * 3\n",
        ")"
      ]
    },
    {
      "cell_type": "markdown",
      "metadata": {
        "id": "mNLzGlW4gqRt"
      },
      "source": [
        "# Choose the period:\n",
        "---\n",
        "\n"
      ]
    },
    {
      "cell_type": "code",
      "execution_count": 4,
      "metadata": {
        "colab": {
          "base_uri": "https://localhost:8080/",
          "height": 112,
          "referenced_widgets": [
            "74ce9f0124b34f7887d9cadfe992ce51",
            "4a2db30c2c7b48ffa96e16bde83ac3a0",
            "006d6de5f262454bb198b531cc27d8db",
            "6a9c8756ce7945559974711a3dd2b106",
            "e8bb4b1b7c2a4479871f23e9cf36103e",
            "e651405bdfd949e2b1d7d216d8ffdbf8",
            "5ed8ce1c0c38490c98895d2b683b621c",
            "e782974754ab4c7eba2dafa17ec5eb0d",
            "8b662acecc354d8abfb44a53b2bfab05"
          ]
        },
        "id": "rdkWuNrIgHsK",
        "outputId": "00f4d42d-b47f-46df-cab9-cda3b66a37fd"
      },
      "outputs": [
        {
          "output_type": "display_data",
          "data": {
            "text/plain": [
              "ToggleButtons(button_style='success', description='Ano', options=('2021', '2022', '2023', '2024'), tooltips=('…"
            ],
            "application/vnd.jupyter.widget-view+json": {
              "version_major": 2,
              "version_minor": 0,
              "model_id": "74ce9f0124b34f7887d9cadfe992ce51"
            }
          },
          "metadata": {}
        },
        {
          "output_type": "display_data",
          "data": {
            "text/plain": [
              "ToggleButtons(button_style='success', description='Mes:', options=('janeiro', 'fevereiro', 'marco', 'abril', '…"
            ],
            "application/vnd.jupyter.widget-view+json": {
              "version_major": 2,
              "version_minor": 0,
              "model_id": "6a9c8756ce7945559974711a3dd2b106"
            }
          },
          "metadata": {}
        },
        {
          "output_type": "display_data",
          "data": {
            "text/plain": [
              "ToggleButtons(button_style='success', description='Semana', options=('1', '2', '3', '4', '5'), tooltips=('Desc…"
            ],
            "application/vnd.jupyter.widget-view+json": {
              "version_major": 2,
              "version_minor": 0,
              "model_id": "5ed8ce1c0c38490c98895d2b683b621c"
            }
          },
          "metadata": {}
        }
      ],
      "source": [
        "mostra_botoes ()"
      ]
    },
    {
      "cell_type": "markdown",
      "metadata": {
        "id": "WohWWkbDMWiR"
      },
      "source": [
        "# Read DCM files from your Personal Drive"
      ]
    },
    {
      "cell_type": "code",
      "execution_count": 8,
      "metadata": {
        "id": "VB3kZCzP2hWv"
      },
      "outputs": [],
      "source": [
        "mes = mes_escolhido.value\n",
        "numero_semana = semana_escolhida.value\n",
        "ano = ano_escolhido.value\n",
        "\n",
        "path_dcm = '/content/drive/MyDrive/dados_da_hemo/{a}/{b}/semana{c}/'.format(a=ano,b=mes,c=numero_semana)\n",
        "imagem_path = '/content/drive/MyDrive/dados_da_hemo/{a}/{b}/semana{c}/imagens'.format(a=ano,b=mes,c=numero_semana)"
      ]
    },
    {
      "cell_type": "code",
      "execution_count": 14,
      "metadata": {
        "id": "_Oxb_102Peaj"
      },
      "outputs": [],
      "source": [
        "#renomear_arquivos(path_dcm)"
      ]
    },
    {
      "cell_type": "markdown",
      "metadata": {
        "id": "BJr8KBjP_kJ5"
      },
      "source": [
        "## Retirando as informações do cabeçalho DICOM dos procedimentos"
      ]
    },
    {
      "cell_type": "code",
      "execution_count": null,
      "metadata": {
        "id": "_xbp-yKU_1rb"
      },
      "outputs": [],
      "source": [
        "tag_data = (0x0008, 0x0023)\n",
        "tag_id_paciente = (0x0010,0x0020)\n",
        "tag_sexo_paciente = (0x0010,0x0040)\n",
        "tag_idade_paciente = (0x0010,0x1010)\n",
        "tag_tipo_procedimento = (0x0040,0x0254)\n",
        "tag_medicos = (0x0008,0x1050)\n",
        "\n",
        "data = []\n",
        "id_paciente = []\n",
        "sexo_paciente = []\n",
        "idade_paciente = []\n",
        "tipo_procedimento = []\n",
        "medicos = []"
      ]
    },
    {
      "cell_type": "code",
      "execution_count": null,
      "metadata": {
        "id": "i2w1UiMw_5TY"
      },
      "outputs": [],
      "source": [
        "arquivos = [f for f in os.listdir(path_dcm) if os.path.isfile(os.path.join(path_dcm, f))]\n",
        "\n",
        "# Conta o número de arquivos\n",
        "numero_de_arquivos = len(arquivos)\n",
        "\n",
        "for i in range (numero_de_arquivos):\n",
        "  arquivo_dicom = '/content/drive/MyDrive/dados_da_hemo/{a}/{b}/semana{c}/{d}.dcm'.format(a=ano,b=mes,c=numero_semana,d=i)\n",
        "  data_desse_paciente = get_dicom_header_info(arquivo_dicom, tag_data)\n",
        "  id_desse_paciente = get_dicom_header_info(arquivo_dicom, tag_id_paciente)\n",
        "  sexo_desse_paciente = get_dicom_header_info(arquivo_dicom, tag_sexo_paciente)\n",
        "  idade_desse_paciente = get_dicom_header_info(arquivo_dicom, tag_idade_paciente)\n",
        "  tipo_desse_procedimento = get_dicom_header_info(arquivo_dicom, tag_tipo_procedimento)\n",
        "  medicos_desse_procedimento =  get_dicom_header_info(arquivo_dicom, tag_medicos)\n",
        "\n",
        "  data.append(data_desse_paciente)\n",
        "  id_paciente.append(id_desse_paciente)\n",
        "  sexo_paciente.append(sexo_desse_paciente)\n",
        "  idade_paciente.append(idade_desse_paciente)\n",
        "  tipo_procedimento.append(tipo_desse_procedimento)\n",
        "  medicos.append(medicos_desse_procedimento)"
      ]
    },
    {
      "cell_type": "code",
      "execution_count": null,
      "metadata": {
        "id": "WBfnxrPlDWX4"
      },
      "outputs": [],
      "source": [
        "nomes_das_colunas = ['ID','Data','Sexo Paciente','Idade Paciente','Tipo Procedimento','Medicos']\n",
        "dataframe_cabecalho_dcm = vetores_para_dataframe(id_paciente,data,sexo_paciente,idade_paciente, tipo_procedimento,medicos,colunas=nomes_das_colunas)\n",
        "dataframe_cabecalho_dcm['ID'] = dataframe_cabecalho_dcm['ID'].astype(int)\n",
        "dataframe_cabecalho_dcm"
      ]
    },
    {
      "cell_type": "markdown",
      "metadata": {
        "id": "C63ZezqAGE62"
      },
      "source": [
        "\\# Parte 2: Transformando as imagens .dcm em imagens .png e salvando no drive"
      ]
    },
    {
      "cell_type": "code",
      "execution_count": null,
      "metadata": {
        "id": "36-JAmdySNKP"
      },
      "outputs": [],
      "source": [
        "imagens = []\n",
        "\n",
        "# def show_slices_from_dicom_file(dicom_file):\n",
        "#     # Lê o arquivo DICOM\n",
        "#     ds = pydicom.dcmread(dicom_file)\n",
        "\n",
        "#     if ds.pixel_array.ndim == 2:\n",
        "#         slices = [ds.pixel_array.astype(np.uint8)]\n",
        "#     elif ds.pixel_array.ndim == 3:\n",
        "#         slices = [ds.pixel_array[i].astype(np.uint8) for i in range(ds.pixel_array.shape[0])]\n",
        "#     else:\n",
        "#         print(f\"O arquivo DICOM não possui dados de imagem no formato esperado (1024 x 1024).\")\n",
        "#         return\n",
        "\n",
        "#     # Remove as bordas pretas dos slices\n",
        "#     cropped_slices = [remove_black_borders(slice_img) for slice_img in slices]\n",
        "\n",
        "#     # Junta os slices verticalmente em uma única imagem\n",
        "#     combined_image = np.vstack(cropped_slices)\n",
        "\n",
        "\n",
        "\n",
        "#     # Adiciona a imagem na lista de imagens\n",
        "#     imagens.append(combined_image)\n",
        "\n",
        "def remove_black_borders(image):\n",
        "    mask = image > 0\n",
        "    coords = np.argwhere(mask)\n",
        "    y_min, x_min = coords.min(axis=0)\n",
        "    y_max, x_max = coords.max(axis=0) + 1\n",
        "    return image[y_min:y_max, x_min:x_max]\n",
        "\n",
        "def save_slices_as_png(dicom_file):\n",
        "    # Lê o arquivo DICOM\n",
        "    ds = pydicom.dcmread(dicom_file)\n",
        "\n",
        "    if ds.pixel_array.ndim == 2:\n",
        "        slices = [ds.pixel_array.astype(np.uint8)]\n",
        "    elif ds.pixel_array.ndim == 3:\n",
        "        slices = [ds.pixel_array[i].astype(np.uint8) for i in range(ds.pixel_array.shape[0])]\n",
        "    else:\n",
        "        print(f\"O arquivo DICOM não possui dados de imagem no formato esperado (1024 x 1024).\")\n",
        "        return\n",
        "\n",
        "    # Remove as bordas pretas dos slices\n",
        "    cropped_slices = [remove_black_borders(slice_img) for slice_img in slices]\n",
        "\n",
        "    # Junta os slices verticalmente em uma única imagem\n",
        "    combined_image = np.vstack(cropped_slices)\n",
        "    combined_image = Image.fromarray(combined_image)\n",
        "\n",
        "    # Salva a imagem em um arquivo PNG\n",
        "    imagens.append(combined_image)"
      ]
    },
    {
      "cell_type": "code",
      "execution_count": null,
      "metadata": {
        "id": "AN7BM0U4SSxP"
      },
      "outputs": [],
      "source": [
        "for i in range (numero_de_arquivos):\n",
        "  dicom_file = '/content/drive/MyDrive/dados_da_hemo/{a}/{b}/semana{c}/{d}.dcm'.format(a=ano,b=mes,c=numero_semana,d=i)\n",
        "  save_slices_as_png(dicom_file)\n",
        "\n",
        "for i in range(numero_de_arquivos):\n",
        "    image = imagens[i]\n",
        "    image.save(f\"{imagem_path}/imagem{i}.png\", quality=95)"
      ]
    },
    {
      "cell_type": "markdown",
      "metadata": {
        "id": "PdT26PFMpH70"
      },
      "source": [
        "## Manipulando as imagens e retirando as informações do texto"
      ]
    },
    {
      "cell_type": "code",
      "execution_count": null,
      "metadata": {
        "id": "deiwswDZAOZ1"
      },
      "outputs": [],
      "source": [
        "texto = []\n",
        "\n",
        "for i in range(numero_de_arquivos):\n",
        "  try:\n",
        "    txt = pytesseract.image_to_string(Image.open('/content/drive/MyDrive/dados_da_hemo/{a}/{b}/semana{c}/imagens/imagem{d}.png'.format(a=ano,b=mes,c=numero_semana,d=i)))\n",
        "    texto.append(txt)\n",
        "  except:\n",
        "    txt =  'erro'\n",
        "    texto.append(txt)\n",
        "    print (i)"
      ]
    },
    {
      "cell_type": "code",
      "execution_count": null,
      "metadata": {
        "id": "a8bwdV9jLN5B"
      },
      "outputs": [],
      "source": [
        "print (texto[0])"
      ]
    },
    {
      "cell_type": "markdown",
      "metadata": {
        "id": "mlzANi5jiVwg"
      },
      "source": [
        "## Retira apenas a porção final das imagens e tira o espaço entre os números"
      ]
    },
    {
      "cell_type": "code",
      "execution_count": null,
      "metadata": {
        "id": "sZkq-QI-fVI0"
      },
      "outputs": [],
      "source": [
        "texto_cortado = []\n",
        "texto_cortado_espaco = []\n",
        "\n",
        "def extract_exposure_data(text):\n",
        "    pattern = r'(?<=\\*\\*\\*accumulated exposure data\\*\\*\\*).*'\n",
        "    result = re.search(pattern, text, re.IGNORECASE | re.DOTALL)\n",
        "    if result:\n",
        "        return result.group(0).strip()\n",
        "    else:\n",
        "        return ''\n",
        "\n",
        "def remove_spaces_between_numbers(text):\n",
        "    # Procura por um padrão de espaços entre números (exemplo: \"1234.   8\")\n",
        "    pattern = r'(\\d+)\\s*([.,])?\\s*(\\d+)?'\n",
        "\n",
        "    # Substitui o padrão pela sequência de números sem espaços\n",
        "    return re.sub(pattern, r'\\1\\2\\3', text)\n",
        "\n",
        "for i in range (numero_de_arquivos):\n",
        "  texto_cortado.append(extract_exposure_data(texto[i]))\n",
        "  texto_cortado_espaco.append(remove_spaces_between_numbers(texto_cortado[i]))"
      ]
    },
    {
      "cell_type": "code",
      "execution_count": null,
      "metadata": {
        "id": "RaUAfIucDICq"
      },
      "outputs": [],
      "source": [
        "texto_cortado_espaco[0]"
      ]
    },
    {
      "cell_type": "code",
      "execution_count": null,
      "metadata": {
        "id": "qn3QGY7LXOUI"
      },
      "outputs": [],
      "source": [
        "numeros_do_texto = []\n",
        "dose_mgy = []\n",
        "kpa_uGym2 = []\n",
        "tempo_fluoro = []\n",
        "num_exp = []\n",
        "\n",
        "def extrair_numero_exposures(texto):\n",
        "    # Cria a expressão regular para encontrar o padrão \"Exposures:\" seguido de um número (com ou sem espaços e caracteres adicionais)\n",
        "    pattern = r'Exposures:[^0-9]*([\\d.]+)'\n",
        "\n",
        "    # Procura pelo padrão no texto\n",
        "    match = re.search(pattern, texto, flags=re.IGNORECASE)\n",
        "\n",
        "    # Se o padrão for encontrado, retorna o número extraído\n",
        "    if match:\n",
        "        return float(match.group(1))\n",
        "    else:\n",
        "        return None\n",
        "\n",
        "def extrair_numero_fluoro(texto):\n",
        "    # Cria a expressão regular para encontrar o padrão \"Fluoro\", \"Flucro\" ou \"Fluore\" seguido de um número (com ou sem espaços e caracteres adicionais)\n",
        "    pattern = r'(Fluoro|Flucro|Fluore)[^0-9]*([\\d.]+)'\n",
        "\n",
        "    # Procura pelo padrão no texto\n",
        "    match = re.search(pattern, texto, flags=re.IGNORECASE)\n",
        "\n",
        "    # Se o padrão for encontrado, retorna o número extraído\n",
        "    if match:\n",
        "        return float(match.group(2))\n",
        "    else:\n",
        "        return None\n",
        "\n",
        "def extract_numbers(text):\n",
        "    numbers = re.findall(r'\\d+(?:\\.\\d+)?', text)\n",
        "    return [float(n) for n in numbers]\n",
        "\n",
        "for i in range (numero_de_arquivos):\n",
        "    a = extract_numbers(texto_cortado_espaco[i])\n",
        "\n",
        "    # Se a lista 'a' não tiver pelo menos dois elementos, continue com a próxima iteração\n",
        "    if len(a) < 2:\n",
        "        continue\n",
        "\n",
        "    dose_da_vez = a[-1]\n",
        "    kpa_uGym2_da_vez = a[-2]\n",
        "    tempo_fluoro.append(extrair_numero_fluoro(texto_cortado_espaco[i]))\n",
        "    num_exp.append(extrair_numero_exposures(texto_cortado_espaco[i]))\n",
        "    dose_mgy.append(dose_da_vez)\n",
        "    kpa_uGym2.append(kpa_uGym2_da_vez)"
      ]
    },
    {
      "cell_type": "code",
      "execution_count": null,
      "metadata": {
        "id": "Z3cdQUf4qohQ"
      },
      "outputs": [],
      "source": [
        "def vetor_para_coluna_dataframe(vetor, nome_coluna):\n",
        "    # cria um dataframe com uma coluna e os valores do vetor\n",
        "    df = pd.DataFrame({nome_coluna: vetor})\n",
        "    return df\n",
        "\n",
        "dataframe_dose = vetor_para_coluna_dataframe(dose_mgy, 'Dose (mGy)')\n",
        "dataframe_kpa = vetor_para_coluna_dataframe(kpa_uGym2, 'KPA (uGym2)')\n",
        "dataframe_tempo = vetor_para_coluna_dataframe(tempo_fluoro, 'Tempo (min)')\n",
        "dataframe_exp = vetor_para_coluna_dataframe(num_exp, 'Num Exposicoes')"
      ]
    },
    {
      "cell_type": "markdown",
      "metadata": {
        "id": "d8P1eAXttanX"
      },
      "source": [
        "## Criando o dataframe final"
      ]
    },
    {
      "cell_type": "markdown",
      "metadata": {
        "id": "FTDAmmchtdWD"
      },
      "source": [
        "### Juntando os dataframes dcm com dose e kpa"
      ]
    },
    {
      "cell_type": "code",
      "execution_count": null,
      "metadata": {
        "id": "SSbFDfMSthuh"
      },
      "outputs": [],
      "source": [
        "df_concat = pd.concat([dataframe_cabecalho_dcm, dataframe_dose, dataframe_kpa, dataframe_tempo, dataframe_exp], axis=1)\n",
        "df_concat"
      ]
    },
    {
      "cell_type": "markdown",
      "metadata": {
        "id": "8GtEL0z4wDyn"
      },
      "source": [
        "### Arrumando as datas e transformando valores numéricos em variáveis númericas"
      ]
    },
    {
      "cell_type": "code",
      "execution_count": null,
      "metadata": {
        "id": "M0bL0ltfwZj0"
      },
      "outputs": [],
      "source": [
        "from datetime import datetime\n",
        "\n",
        "def format_date(column):\n",
        "    new_dates = []\n",
        "    for date in column:\n",
        "        if len(date) == 8:\n",
        "            new_date = datetime.strptime(date, '%Y%m%d').strftime('%d/%m/%Y')\n",
        "        elif len(date) == 10:\n",
        "            new_date = datetime.strptime(date, '%d/%m/%Y').strftime('%d/%m/%Y')\n",
        "        else:\n",
        "            new_date = date  # leave unchanged if not in expected format\n",
        "        new_dates.append(new_date)\n",
        "    return new_dates\n",
        "\n",
        "df_concat['Data'] = format_date(df_concat['Data'])"
      ]
    },
    {
      "cell_type": "markdown",
      "metadata": {
        "id": "McCd0sc86s84"
      },
      "source": [
        "# Filter the Dataframe"
      ]
    },
    {
      "cell_type": "code",
      "execution_count": 5,
      "metadata": {
        "colab": {
          "base_uri": "https://localhost:8080/",
          "height": 112,
          "referenced_widgets": [
            "4930ac193844485aa7e4c00ee7d856f8",
            "7a5f543797f64a808c1208404cde2602",
            "3ba8c698b3784d11af96fbde235dc04e",
            "6205d800b90844b2bf4dc0294c5e1667",
            "3c4508d689084fefb1a3dbe829399da9",
            "9ebbddb994d04332908e507691349096",
            "452f32aea150437688041a7329e31c3e",
            "feeb849595884740a2d748dfaac68636",
            "70b67f39c2a74032b2c9f56a752b499c"
          ]
        },
        "id": "I1wDKJLwctja",
        "outputId": "ae84dad1-b6f4-48aa-f8e5-06987108dbc9"
      },
      "outputs": [
        {
          "output_type": "display_data",
          "data": {
            "text/plain": [
              "IntText(value=0, description='Linha: ')"
            ],
            "application/vnd.jupyter.widget-view+json": {
              "version_major": 2,
              "version_minor": 0,
              "model_id": "4930ac193844485aa7e4c00ee7d856f8"
            }
          },
          "metadata": {}
        },
        {
          "output_type": "display_data",
          "data": {
            "text/plain": [
              "ToggleButtons(button_style='success', description='Coluna de interesse: ', options=('Dose (mGy)', 'KPA (uGym2)…"
            ],
            "application/vnd.jupyter.widget-view+json": {
              "version_major": 2,
              "version_minor": 0,
              "model_id": "6205d800b90844b2bf4dc0294c5e1667"
            }
          },
          "metadata": {}
        },
        {
          "output_type": "display_data",
          "data": {
            "text/plain": [
              "IntText(value=0, description='Valor novo: ')"
            ],
            "application/vnd.jupyter.widget-view+json": {
              "version_major": 2,
              "version_minor": 0,
              "model_id": "452f32aea150437688041a7329e31c3e"
            }
          },
          "metadata": {}
        }
      ],
      "source": [
        "mostra_botoes_2 ()"
      ]
    },
    {
      "cell_type": "code",
      "execution_count": 18,
      "metadata": {
        "id": "AfHXr-fzc7Ij"
      },
      "outputs": [],
      "source": [
        "# replace_value (df_concat, linha_escolhida.value, coluna_escolhida.value, valor_novo.value)\n",
        "# df_concat"
      ]
    },
    {
      "cell_type": "code",
      "execution_count": 19,
      "metadata": {
        "id": "yxORHOej8iBQ"
      },
      "outputs": [],
      "source": [
        "# def remove_virgulas(medico):\n",
        "#     return ''.join([c for c in medico if c != ','])\n",
        "\n",
        "# # Aplicar a função na coluna 'Medicos'\n",
        "df_concat['Medicos'] = df_concat['Medicos'].apply(remove_virgulas)\n",
        "\n",
        "df_concat['KPA (uGym2)'] = df_concat['KPA (uGym2)'].astype(int)\n",
        "df_concat['Dose (mGy)'] = df_concat['Dose (mGy)'].astype(int)\n",
        "df_concat['Tempo (min)'] = df_concat['Tempo (min)'].astype(float)\n",
        "df_concat['ID'] = df_concat['ID'].astype(int)\n",
        "\n",
        "df_concat['Dose (mGy)'] = df_concat['Dose (mGy)'].astype(float)\n",
        "df_concat['Taxa de Dose (mGy/s)'] = round(df_concat['Dose (mGy)']/(60*df_concat['Tempo (min)']),1)\n",
        "df_concat"
      ]
    },
    {
      "cell_type": "markdown",
      "metadata": {
        "id": "Bk6UD2Jv62hA"
      },
      "source": [
        "### Salve seu dataframe como uma tabela do excel"
      ]
    },
    {
      "cell_type": "code",
      "execution_count": null,
      "metadata": {
        "id": "_jKJTePP61v4"
      },
      "outputs": [],
      "source": [
        "def salvar_dataframe_excel(df, nome_arquivo, diretorio):\n",
        "    # Concatena o diretório e o nome do arquivo para criar o caminho completo\n",
        "    caminho_arquivo = f\"{diretorio}/{nome_arquivo}.xlsx\"\n",
        "\n",
        "    # Salva o DataFrame como um arquivo Excel no caminho especificado\n",
        "    df.to_excel(caminho_arquivo, index=False, engine='openpyxl')\n",
        "\n",
        "nome_arquivo = 'dados{a}_{b}_{c}'.format(a=mes,b=numero_semana,c=ano)\n",
        "diretorio_arquivo = '/content/drive/MyDrive/dados_da_hemo/{a}/tabelas_excel/'.format(a=ano,b=mes)\n",
        "salvar_dataframe_excel(df_concat, nome_arquivo, diretorio_arquivo)"
      ]
    }
  ],
  "metadata": {
    "colab": {
      "collapsed_sections": [
        "NklFH8jrMSjv",
        "WohWWkbDMWiR",
        "XA0uHOz4qQCh",
        "a0ouizs0pBcD"
      ],
      "provenance": []
    },
    "kernelspec": {
      "display_name": "Python 3",
      "name": "python3"
    },
    "language_info": {
      "name": "python"
    },
    "widgets": {
      "application/vnd.jupyter.widget-state+json": {
        "74ce9f0124b34f7887d9cadfe992ce51": {
          "model_module": "@jupyter-widgets/controls",
          "model_name": "ToggleButtonsModel",
          "model_module_version": "1.5.0",
          "state": {
            "_dom_classes": [],
            "_model_module": "@jupyter-widgets/controls",
            "_model_module_version": "1.5.0",
            "_model_name": "ToggleButtonsModel",
            "_options_labels": [
              "2021",
              "2022",
              "2023",
              "2024"
            ],
            "_view_count": null,
            "_view_module": "@jupyter-widgets/controls",
            "_view_module_version": "1.5.0",
            "_view_name": "ToggleButtonsView",
            "button_style": "success",
            "description": "Ano",
            "description_tooltip": null,
            "disabled": false,
            "icons": [],
            "index": 3,
            "layout": "IPY_MODEL_4a2db30c2c7b48ffa96e16bde83ac3a0",
            "style": "IPY_MODEL_006d6de5f262454bb198b531cc27d8db",
            "tooltips": [
              "Description of slow",
              "Description of regular",
              "Description of fast"
            ]
          }
        },
        "4a2db30c2c7b48ffa96e16bde83ac3a0": {
          "model_module": "@jupyter-widgets/base",
          "model_name": "LayoutModel",
          "model_module_version": "1.2.0",
          "state": {
            "_model_module": "@jupyter-widgets/base",
            "_model_module_version": "1.2.0",
            "_model_name": "LayoutModel",
            "_view_count": null,
            "_view_module": "@jupyter-widgets/base",
            "_view_module_version": "1.2.0",
            "_view_name": "LayoutView",
            "align_content": null,
            "align_items": null,
            "align_self": null,
            "border": null,
            "bottom": null,
            "display": null,
            "flex": null,
            "flex_flow": null,
            "grid_area": null,
            "grid_auto_columns": null,
            "grid_auto_flow": null,
            "grid_auto_rows": null,
            "grid_column": null,
            "grid_gap": null,
            "grid_row": null,
            "grid_template_areas": null,
            "grid_template_columns": null,
            "grid_template_rows": null,
            "height": null,
            "justify_content": null,
            "justify_items": null,
            "left": null,
            "margin": null,
            "max_height": null,
            "max_width": null,
            "min_height": null,
            "min_width": null,
            "object_fit": null,
            "object_position": null,
            "order": null,
            "overflow": null,
            "overflow_x": null,
            "overflow_y": null,
            "padding": null,
            "right": null,
            "top": null,
            "visibility": null,
            "width": null
          }
        },
        "006d6de5f262454bb198b531cc27d8db": {
          "model_module": "@jupyter-widgets/controls",
          "model_name": "ToggleButtonsStyleModel",
          "model_module_version": "1.5.0",
          "state": {
            "_model_module": "@jupyter-widgets/controls",
            "_model_module_version": "1.5.0",
            "_model_name": "ToggleButtonsStyleModel",
            "_view_count": null,
            "_view_module": "@jupyter-widgets/base",
            "_view_module_version": "1.2.0",
            "_view_name": "StyleView",
            "button_width": "",
            "description_width": "",
            "font_weight": ""
          }
        },
        "6a9c8756ce7945559974711a3dd2b106": {
          "model_module": "@jupyter-widgets/controls",
          "model_name": "ToggleButtonsModel",
          "model_module_version": "1.5.0",
          "state": {
            "_dom_classes": [],
            "_model_module": "@jupyter-widgets/controls",
            "_model_module_version": "1.5.0",
            "_model_name": "ToggleButtonsModel",
            "_options_labels": [
              "janeiro",
              "fevereiro",
              "marco",
              "abril",
              "maio",
              "junho",
              "julho",
              "agosto",
              "setembro",
              "outubro",
              "novembro",
              "dezembro"
            ],
            "_view_count": null,
            "_view_module": "@jupyter-widgets/controls",
            "_view_module_version": "1.5.0",
            "_view_name": "ToggleButtonsView",
            "button_style": "success",
            "description": "Mes:",
            "description_tooltip": null,
            "disabled": false,
            "icons": [],
            "index": 0,
            "layout": "IPY_MODEL_e8bb4b1b7c2a4479871f23e9cf36103e",
            "style": "IPY_MODEL_e651405bdfd949e2b1d7d216d8ffdbf8",
            "tooltips": [
              "Description of slow",
              "Description of regular",
              "Description of fast"
            ]
          }
        },
        "e8bb4b1b7c2a4479871f23e9cf36103e": {
          "model_module": "@jupyter-widgets/base",
          "model_name": "LayoutModel",
          "model_module_version": "1.2.0",
          "state": {
            "_model_module": "@jupyter-widgets/base",
            "_model_module_version": "1.2.0",
            "_model_name": "LayoutModel",
            "_view_count": null,
            "_view_module": "@jupyter-widgets/base",
            "_view_module_version": "1.2.0",
            "_view_name": "LayoutView",
            "align_content": null,
            "align_items": null,
            "align_self": null,
            "border": null,
            "bottom": null,
            "display": null,
            "flex": null,
            "flex_flow": null,
            "grid_area": null,
            "grid_auto_columns": null,
            "grid_auto_flow": null,
            "grid_auto_rows": null,
            "grid_column": null,
            "grid_gap": null,
            "grid_row": null,
            "grid_template_areas": null,
            "grid_template_columns": null,
            "grid_template_rows": null,
            "height": null,
            "justify_content": null,
            "justify_items": null,
            "left": null,
            "margin": null,
            "max_height": null,
            "max_width": null,
            "min_height": null,
            "min_width": null,
            "object_fit": null,
            "object_position": null,
            "order": null,
            "overflow": null,
            "overflow_x": null,
            "overflow_y": null,
            "padding": null,
            "right": null,
            "top": null,
            "visibility": null,
            "width": null
          }
        },
        "e651405bdfd949e2b1d7d216d8ffdbf8": {
          "model_module": "@jupyter-widgets/controls",
          "model_name": "ToggleButtonsStyleModel",
          "model_module_version": "1.5.0",
          "state": {
            "_model_module": "@jupyter-widgets/controls",
            "_model_module_version": "1.5.0",
            "_model_name": "ToggleButtonsStyleModel",
            "_view_count": null,
            "_view_module": "@jupyter-widgets/base",
            "_view_module_version": "1.2.0",
            "_view_name": "StyleView",
            "button_width": "",
            "description_width": "",
            "font_weight": ""
          }
        },
        "5ed8ce1c0c38490c98895d2b683b621c": {
          "model_module": "@jupyter-widgets/controls",
          "model_name": "ToggleButtonsModel",
          "model_module_version": "1.5.0",
          "state": {
            "_dom_classes": [],
            "_model_module": "@jupyter-widgets/controls",
            "_model_module_version": "1.5.0",
            "_model_name": "ToggleButtonsModel",
            "_options_labels": [
              "1",
              "2",
              "3",
              "4",
              "5"
            ],
            "_view_count": null,
            "_view_module": "@jupyter-widgets/controls",
            "_view_module_version": "1.5.0",
            "_view_name": "ToggleButtonsView",
            "button_style": "success",
            "description": "Semana",
            "description_tooltip": null,
            "disabled": false,
            "icons": [],
            "index": 2,
            "layout": "IPY_MODEL_e782974754ab4c7eba2dafa17ec5eb0d",
            "style": "IPY_MODEL_8b662acecc354d8abfb44a53b2bfab05",
            "tooltips": [
              "Description of slow",
              "Description of regular",
              "Description of fast"
            ]
          }
        },
        "e782974754ab4c7eba2dafa17ec5eb0d": {
          "model_module": "@jupyter-widgets/base",
          "model_name": "LayoutModel",
          "model_module_version": "1.2.0",
          "state": {
            "_model_module": "@jupyter-widgets/base",
            "_model_module_version": "1.2.0",
            "_model_name": "LayoutModel",
            "_view_count": null,
            "_view_module": "@jupyter-widgets/base",
            "_view_module_version": "1.2.0",
            "_view_name": "LayoutView",
            "align_content": null,
            "align_items": null,
            "align_self": null,
            "border": null,
            "bottom": null,
            "display": null,
            "flex": null,
            "flex_flow": null,
            "grid_area": null,
            "grid_auto_columns": null,
            "grid_auto_flow": null,
            "grid_auto_rows": null,
            "grid_column": null,
            "grid_gap": null,
            "grid_row": null,
            "grid_template_areas": null,
            "grid_template_columns": null,
            "grid_template_rows": null,
            "height": null,
            "justify_content": null,
            "justify_items": null,
            "left": null,
            "margin": null,
            "max_height": null,
            "max_width": null,
            "min_height": null,
            "min_width": null,
            "object_fit": null,
            "object_position": null,
            "order": null,
            "overflow": null,
            "overflow_x": null,
            "overflow_y": null,
            "padding": null,
            "right": null,
            "top": null,
            "visibility": null,
            "width": null
          }
        },
        "8b662acecc354d8abfb44a53b2bfab05": {
          "model_module": "@jupyter-widgets/controls",
          "model_name": "ToggleButtonsStyleModel",
          "model_module_version": "1.5.0",
          "state": {
            "_model_module": "@jupyter-widgets/controls",
            "_model_module_version": "1.5.0",
            "_model_name": "ToggleButtonsStyleModel",
            "_view_count": null,
            "_view_module": "@jupyter-widgets/base",
            "_view_module_version": "1.2.0",
            "_view_name": "StyleView",
            "button_width": "",
            "description_width": "",
            "font_weight": ""
          }
        },
        "4930ac193844485aa7e4c00ee7d856f8": {
          "model_module": "@jupyter-widgets/controls",
          "model_name": "IntTextModel",
          "model_module_version": "1.5.0",
          "state": {
            "_dom_classes": [],
            "_model_module": "@jupyter-widgets/controls",
            "_model_module_version": "1.5.0",
            "_model_name": "IntTextModel",
            "_view_count": null,
            "_view_module": "@jupyter-widgets/controls",
            "_view_module_version": "1.5.0",
            "_view_name": "IntTextView",
            "continuous_update": false,
            "description": "Linha: ",
            "description_tooltip": null,
            "disabled": false,
            "layout": "IPY_MODEL_7a5f543797f64a808c1208404cde2602",
            "step": 1,
            "style": "IPY_MODEL_3ba8c698b3784d11af96fbde235dc04e",
            "value": 0
          }
        },
        "7a5f543797f64a808c1208404cde2602": {
          "model_module": "@jupyter-widgets/base",
          "model_name": "LayoutModel",
          "model_module_version": "1.2.0",
          "state": {
            "_model_module": "@jupyter-widgets/base",
            "_model_module_version": "1.2.0",
            "_model_name": "LayoutModel",
            "_view_count": null,
            "_view_module": "@jupyter-widgets/base",
            "_view_module_version": "1.2.0",
            "_view_name": "LayoutView",
            "align_content": null,
            "align_items": null,
            "align_self": null,
            "border": null,
            "bottom": null,
            "display": null,
            "flex": null,
            "flex_flow": null,
            "grid_area": null,
            "grid_auto_columns": null,
            "grid_auto_flow": null,
            "grid_auto_rows": null,
            "grid_column": null,
            "grid_gap": null,
            "grid_row": null,
            "grid_template_areas": null,
            "grid_template_columns": null,
            "grid_template_rows": null,
            "height": null,
            "justify_content": null,
            "justify_items": null,
            "left": null,
            "margin": null,
            "max_height": null,
            "max_width": null,
            "min_height": null,
            "min_width": null,
            "object_fit": null,
            "object_position": null,
            "order": null,
            "overflow": null,
            "overflow_x": null,
            "overflow_y": null,
            "padding": null,
            "right": null,
            "top": null,
            "visibility": null,
            "width": null
          }
        },
        "3ba8c698b3784d11af96fbde235dc04e": {
          "model_module": "@jupyter-widgets/controls",
          "model_name": "DescriptionStyleModel",
          "model_module_version": "1.5.0",
          "state": {
            "_model_module": "@jupyter-widgets/controls",
            "_model_module_version": "1.5.0",
            "_model_name": "DescriptionStyleModel",
            "_view_count": null,
            "_view_module": "@jupyter-widgets/base",
            "_view_module_version": "1.2.0",
            "_view_name": "StyleView",
            "description_width": ""
          }
        },
        "6205d800b90844b2bf4dc0294c5e1667": {
          "model_module": "@jupyter-widgets/controls",
          "model_name": "ToggleButtonsModel",
          "model_module_version": "1.5.0",
          "state": {
            "_dom_classes": [],
            "_model_module": "@jupyter-widgets/controls",
            "_model_module_version": "1.5.0",
            "_model_name": "ToggleButtonsModel",
            "_options_labels": [
              "Dose (mGy)",
              "KPA (uGym2)",
              "Tempo (min)",
              "Num Exposicoes"
            ],
            "_view_count": null,
            "_view_module": "@jupyter-widgets/controls",
            "_view_module_version": "1.5.0",
            "_view_name": "ToggleButtonsView",
            "button_style": "success",
            "description": "Coluna de interesse: ",
            "description_tooltip": null,
            "disabled": false,
            "icons": [],
            "index": 0,
            "layout": "IPY_MODEL_3c4508d689084fefb1a3dbe829399da9",
            "style": "IPY_MODEL_9ebbddb994d04332908e507691349096",
            "tooltips": [
              "Description of slow",
              "Description of regular",
              "Description of fast"
            ]
          }
        },
        "3c4508d689084fefb1a3dbe829399da9": {
          "model_module": "@jupyter-widgets/base",
          "model_name": "LayoutModel",
          "model_module_version": "1.2.0",
          "state": {
            "_model_module": "@jupyter-widgets/base",
            "_model_module_version": "1.2.0",
            "_model_name": "LayoutModel",
            "_view_count": null,
            "_view_module": "@jupyter-widgets/base",
            "_view_module_version": "1.2.0",
            "_view_name": "LayoutView",
            "align_content": null,
            "align_items": null,
            "align_self": null,
            "border": null,
            "bottom": null,
            "display": null,
            "flex": null,
            "flex_flow": null,
            "grid_area": null,
            "grid_auto_columns": null,
            "grid_auto_flow": null,
            "grid_auto_rows": null,
            "grid_column": null,
            "grid_gap": null,
            "grid_row": null,
            "grid_template_areas": null,
            "grid_template_columns": null,
            "grid_template_rows": null,
            "height": null,
            "justify_content": null,
            "justify_items": null,
            "left": null,
            "margin": null,
            "max_height": null,
            "max_width": null,
            "min_height": null,
            "min_width": null,
            "object_fit": null,
            "object_position": null,
            "order": null,
            "overflow": null,
            "overflow_x": null,
            "overflow_y": null,
            "padding": null,
            "right": null,
            "top": null,
            "visibility": null,
            "width": null
          }
        },
        "9ebbddb994d04332908e507691349096": {
          "model_module": "@jupyter-widgets/controls",
          "model_name": "ToggleButtonsStyleModel",
          "model_module_version": "1.5.0",
          "state": {
            "_model_module": "@jupyter-widgets/controls",
            "_model_module_version": "1.5.0",
            "_model_name": "ToggleButtonsStyleModel",
            "_view_count": null,
            "_view_module": "@jupyter-widgets/base",
            "_view_module_version": "1.2.0",
            "_view_name": "StyleView",
            "button_width": "",
            "description_width": "",
            "font_weight": ""
          }
        },
        "452f32aea150437688041a7329e31c3e": {
          "model_module": "@jupyter-widgets/controls",
          "model_name": "IntTextModel",
          "model_module_version": "1.5.0",
          "state": {
            "_dom_classes": [],
            "_model_module": "@jupyter-widgets/controls",
            "_model_module_version": "1.5.0",
            "_model_name": "IntTextModel",
            "_view_count": null,
            "_view_module": "@jupyter-widgets/controls",
            "_view_module_version": "1.5.0",
            "_view_name": "IntTextView",
            "continuous_update": false,
            "description": "Valor novo: ",
            "description_tooltip": null,
            "disabled": false,
            "layout": "IPY_MODEL_feeb849595884740a2d748dfaac68636",
            "step": 1,
            "style": "IPY_MODEL_70b67f39c2a74032b2c9f56a752b499c",
            "value": 0
          }
        },
        "feeb849595884740a2d748dfaac68636": {
          "model_module": "@jupyter-widgets/base",
          "model_name": "LayoutModel",
          "model_module_version": "1.2.0",
          "state": {
            "_model_module": "@jupyter-widgets/base",
            "_model_module_version": "1.2.0",
            "_model_name": "LayoutModel",
            "_view_count": null,
            "_view_module": "@jupyter-widgets/base",
            "_view_module_version": "1.2.0",
            "_view_name": "LayoutView",
            "align_content": null,
            "align_items": null,
            "align_self": null,
            "border": null,
            "bottom": null,
            "display": null,
            "flex": null,
            "flex_flow": null,
            "grid_area": null,
            "grid_auto_columns": null,
            "grid_auto_flow": null,
            "grid_auto_rows": null,
            "grid_column": null,
            "grid_gap": null,
            "grid_row": null,
            "grid_template_areas": null,
            "grid_template_columns": null,
            "grid_template_rows": null,
            "height": null,
            "justify_content": null,
            "justify_items": null,
            "left": null,
            "margin": null,
            "max_height": null,
            "max_width": null,
            "min_height": null,
            "min_width": null,
            "object_fit": null,
            "object_position": null,
            "order": null,
            "overflow": null,
            "overflow_x": null,
            "overflow_y": null,
            "padding": null,
            "right": null,
            "top": null,
            "visibility": null,
            "width": null
          }
        },
        "70b67f39c2a74032b2c9f56a752b499c": {
          "model_module": "@jupyter-widgets/controls",
          "model_name": "DescriptionStyleModel",
          "model_module_version": "1.5.0",
          "state": {
            "_model_module": "@jupyter-widgets/controls",
            "_model_module_version": "1.5.0",
            "_model_name": "DescriptionStyleModel",
            "_view_count": null,
            "_view_module": "@jupyter-widgets/base",
            "_view_module_version": "1.2.0",
            "_view_name": "StyleView",
            "description_width": ""
          }
        }
      }
    }
  },
  "nbformat": 4,
  "nbformat_minor": 0
}